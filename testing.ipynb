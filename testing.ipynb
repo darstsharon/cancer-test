{
 "cells": [
  {
   "cell_type": "code",
   "execution_count": 1,
   "metadata": {},
   "outputs": [
    {
     "name": "stderr",
     "output_type": "stream",
     "text": [
      "Using Theano backend.\n",
      "WARNING (theano.configdefaults): g++ not available, if using conda: `conda install m2w64-toolchain`\n",
      "C:\\Users\\sharo\\Anaconda3\\envs\\PythonData\\lib\\site-packages\\theano\\configdefaults.py:560: UserWarning: DeprecationWarning: there is no c++ compiler.This is deprecated and with Theano 0.11 a c++ compiler will be mandatory\n",
      "  warnings.warn(\"DeprecationWarning: there is no c++ compiler.\"\n",
      "WARNING (theano.configdefaults): g++ not detected ! Theano will be unable to execute optimized C-implementations (for both CPU and GPU) and will default to Python implementations. Performance will be severely degraded. To remove this warning, set Theano flags cxx to an empty string.\n",
      "WARNING (theano.tensor.blas): Using NumPy C-API based implementation for BLAS functions.\n"
     ]
    }
   ],
   "source": [
    "import tarfile\n",
    "import os\n",
    "\n",
    "%matplotlib inline\n",
    "import matplotlib.pyplot as plt\n",
    "import numpy as np\n",
    "\n",
    "from keras.applications.vgg19 import (\n",
    "    VGG19, preprocess_input, decode_predictions)\n",
    "\n",
    "from keras.models import Sequential\n",
    "from keras.layers import Dense, Activation, Flatten\n",
    "from keras.layers import merge, Input\n",
    "from keras.models import Model\n",
    "from keras.utils import to_categorical, np_utils\n",
    "\n",
    "from sklearn.utils import shuffle\n",
    "from sklearn.model_selection import train_test_split\n",
    "\n",
    "# local import\n",
    "import data"
   ]
  },
  {
   "cell_type": "code",
   "execution_count": 2,
   "metadata": {},
   "outputs": [],
   "source": [
    "if not os.path.exists('Resources/'):\n",
    "    path_to_tar = 'Resources.tar.gz'\n",
    "    tar_file = tarfile.open(path_to_tar)\n",
    "    tar_file.extractall()"
   ]
  },
  {
   "cell_type": "code",
   "execution_count": 3,
   "metadata": {
    "colab": {},
    "colab_type": "code",
    "id": "TRlMUeMQ8I0c"
   },
   "outputs": [],
   "source": [
    "data.train_path = \"Resources/train\"\n",
    "data.test_path = \"Resources/test\""
   ]
  },
  {
   "cell_type": "code",
   "execution_count": 4,
   "metadata": {
    "colab": {
     "base_uri": "https://localhost:8080/",
     "height": 221
    },
    "colab_type": "code",
    "id": "y_lR5ckU8dJ2",
    "outputId": "83bb0f4d-f94a-44a7-cea2-5009cf8f0a8f"
   },
   "outputs": [
    {
     "name": "stdout",
     "output_type": "stream",
     "text": [
      "Resources/train/benign/*\n",
      "Loaded the images of dataset-benign\n",
      "\n",
      "Resources/train/malignant/*\n",
      "Loaded the images of dataset-malignant\n",
      "\n"
     ]
    }
   ],
   "source": [
    "X_train, Y_train = data.get_images(data.train_path, folder_names=['benign', 'malignant'])"
   ]
  },
  {
   "cell_type": "code",
   "execution_count": 5,
   "metadata": {
    "colab": {
     "base_uri": "https://localhost:8080/",
     "height": 221
    },
    "colab_type": "code",
    "id": "chqaLAGf8f4j",
    "outputId": "9def9d4b-0b6a-462d-a2c9-7a09a722bb8f"
   },
   "outputs": [
    {
     "name": "stdout",
     "output_type": "stream",
     "text": [
      "Resources/test/benign/*\n",
      "Loaded the images of dataset-benign\n",
      "\n",
      "Resources/test/malignant/*\n",
      "Loaded the images of dataset-malignant\n",
      "\n"
     ]
    }
   ],
   "source": [
    "X_test, Y_test = data.get_images(data.test_path, folder_names=['benign', 'malignant'])"
   ]
  },
  {
   "cell_type": "code",
   "execution_count": 6,
   "metadata": {
    "colab": {
     "base_uri": "https://localhost:8080/",
     "height": 34
    },
    "colab_type": "code",
    "id": "bPuPWHgI8igN",
    "outputId": "c93119be-010d-40a7-ec5f-4d0e41b482dd"
   },
   "outputs": [
    {
     "data": {
      "text/plain": [
       "(1741, 2)"
      ]
     },
     "execution_count": 6,
     "metadata": {},
     "output_type": "execute_result"
    }
   ],
   "source": [
    "Y_train.shape"
   ]
  },
  {
   "cell_type": "code",
   "execution_count": 7,
   "metadata": {
    "colab": {
     "base_uri": "https://localhost:8080/",
     "height": 34
    },
    "colab_type": "code",
    "id": "WK8kZIdN8kvG",
    "outputId": "b251f7e8-e98c-4ea7-ce49-076db887490e"
   },
   "outputs": [
    {
     "data": {
      "text/plain": [
       "(1741, 2)"
      ]
     },
     "execution_count": 7,
     "metadata": {},
     "output_type": "execute_result"
    }
   ],
   "source": [
    "Y_test.shape"
   ]
  },
  {
   "cell_type": "code",
   "execution_count": 8,
   "metadata": {},
   "outputs": [],
   "source": [
    "image_input = Input(shape=(224, 224, 3))"
   ]
  },
  {
   "cell_type": "code",
   "execution_count": null,
   "metadata": {
    "colab": {
     "base_uri": "https://localhost:8080/",
     "height": 1125
    },
    "colab_type": "code",
    "id": "FIQmOyQM8mJV",
    "outputId": "b095abdc-d10c-434c-bd28-de588077f799"
   },
   "outputs": [],
   "source": [
    "image_input = Input(shape=(224, 224, 3))\n",
    "\n",
    "vgg_model = VGG19(input_tensor=image_input, include_top=True,weights='imagenet')\n",
    "vgg_model.summary()"
   ]
  },
  {
   "cell_type": "code",
   "execution_count": 10,
   "metadata": {
    "colab": {},
    "colab_type": "code",
    "id": "lnwF8i168oO0"
   },
   "outputs": [],
   "source": [
    "X_train_features = vgg_model.predict(X_train)"
   ]
  },
  {
   "cell_type": "code",
   "execution_count": 11,
   "metadata": {
    "colab": {},
    "colab_type": "code",
    "id": "_6U5o78z8s6O"
   },
   "outputs": [],
   "source": [
    "X_test_features = vgg_model.predict(X_test)"
   ]
  },
  {
   "cell_type": "code",
   "execution_count": null,
   "metadata": {
    "colab": {},
    "colab_type": "code",
    "id": "eJW0JKbx-SB-"
   },
   "outputs": [],
   "source": [
    "# use the 1000 category output like a set of features into a new model\n",
    "\n",
    "feature_model = Sequential()\n",
    "feature_model.add(Dense(data.num_classes, activation=\"sigmoid\"))\n",
    "feature_model.compile(loss=\"categorical_crossentropy\", optimizer=\"adam\", metrics=[\"accuracy\"])"
   ]
  },
  {
   "cell_type": "code",
   "execution_count": null,
   "metadata": {
    "colab": {
     "base_uri": "https://localhost:8080/",
     "height": 1822
    },
    "colab_type": "code",
    "id": "WTthjlX7-x2Y",
    "outputId": "c76b5072-5a40-4067-89bb-d92fb737aea1"
   },
   "outputs": [],
   "source": [
    "feature_model.fit(X_train_features, Y_train, epochs=50, validation_data=(X_test_features, Y_test))"
   ]
  },
  {
   "cell_type": "code",
   "execution_count": null,
   "metadata": {
    "colab": {},
    "colab_type": "code",
    "id": "hQoIMW5z-2W4"
   },
   "outputs": [],
   "source": []
  }
 ],
 "metadata": {
  "accelerator": "TPU",
  "colab": {
   "name": "TransferLearning_FeatureApproach.ipynb",
   "provenance": [],
   "version": "0.3.2"
  },
  "kernelspec": {
   "display_name": "Python [conda env:PythonData]",
   "language": "python",
   "name": "pythondata"
  },
  "language_info": {
   "codemirror_mode": {
    "name": "ipython",
    "version": 3
   },
   "file_extension": ".py",
   "mimetype": "text/x-python",
   "name": "python",
   "nbconvert_exporter": "python",
   "pygments_lexer": "ipython3",
   "version": "3.6.7"
  }
 },
 "nbformat": 4,
 "nbformat_minor": 1
}
